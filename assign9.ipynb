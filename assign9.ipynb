{
 "cells": [
  {
   "cell_type": "code",
   "execution_count": 113,
   "id": "d240c1dc-9b5f-4ae9-93ba-e156843a5be6",
   "metadata": {},
   "outputs": [],
   "source": [
    "# Q1. You are writing code for a company. The requirement of the company is that you create a python\n",
    "# function that will check whether the password entered by the user is correct or not. The function should\n",
    "# take the password as input and return the string “Valid Password” if the entered password follows the\n",
    "# below-given password guidelines else it should return “Invalid Password”.\n",
    "# Note: 1. The Password should contain at least two uppercase letters and at least two lowercase letters.\n",
    "# 2. The Password should contain at least a number and three special characters.\n",
    "# 3. The length of the password should be 10 characters long.\n",
    "\n",
    "def passWordChecker(x):\n",
    "    alp = 'abcdefghijklmnopqrstuvwxyz'\n",
    "    alpb = 'ABCDEFGHIJKLMNOPQRSTUVWXYZ'\n",
    "    num = '1234567890'\n",
    "    spec = '!@#$%^&*()_+}{\"?~:\"<>'\n",
    "    if len(x) == 10:\n",
    "        for i in x[0]:\n",
    "            if i in alp:\n",
    "                    print(\"Valid Password\")\n",
    "            elif i in alpb:\n",
    "                    print(\"Valid password\")\n",
    "            elif i in num:\n",
    "                    print(\"Valid Password\")\n",
    "            elif i in spec:\n",
    "                     print(\"Valid password\")\n",
    "            else: \n",
    "                print(\"Invalid password\")\n",
    "    else:\n",
    "        print(f\"Your password must be in 10  characters, Your password characters: {len(x)}\")\n",
    "\n",
    "passWordChecker(x = input(\"Please enter your password: \"))"
   ]
  },
  {
   "cell_type": "code",
   "execution_count": 164,
   "id": "04e5ef08-012f-4e67-9fd5-2b6c562ccfc3",
   "metadata": {},
   "outputs": [
    {
     "name": "stdout",
     "output_type": "stream",
     "text": [
      "1 4 9 16 25 36 49 64 81 100\n",
      "1 8 27 64 125 216 343 512 729 1000\n"
     ]
    },
    {
     "name": "stdin",
     "output_type": "stream",
     "text": [
      " 54\n"
     ]
    },
    {
     "name": "stdout",
     "output_type": "stream",
     "text": [
      "it is even\n"
     ]
    },
    {
     "ename": "TypeError",
     "evalue": "'list' object is not callable",
     "output_type": "error",
     "traceback": [
      "\u001b[0;31m---------------------------------------------------------------------------\u001b[0m",
      "\u001b[0;31mTypeError\u001b[0m                                 Traceback (most recent call last)",
      "Cell \u001b[0;32mIn[164], line 24\u001b[0m\n\u001b[1;32m     22\u001b[0m l \u001b[38;5;241m=\u001b[39m  [\u001b[38;5;241m1\u001b[39m,\u001b[38;5;241m2\u001b[39m,\u001b[38;5;241m3\u001b[39m,\u001b[38;5;241m4\u001b[39m,\u001b[38;5;241m5\u001b[39m,\u001b[38;5;241m6\u001b[39m,\u001b[38;5;241m7\u001b[39m,\u001b[38;5;241m8\u001b[39m,\u001b[38;5;241m9\u001b[39m,\u001b[38;5;241m10\u001b[39m]\n\u001b[1;32m     23\u001b[0m o \u001b[38;5;241m=\u001b[39m \u001b[38;5;28;01mlambda\u001b[39;00m x: x\u001b[38;5;241m%\u001b[39m\u001b[38;5;241m2\u001b[39m \u001b[38;5;241m!=\u001b[39m \u001b[38;5;241m0\u001b[39m\n\u001b[0;32m---> 24\u001b[0m \u001b[38;5;28mprint\u001b[39m(\u001b[38;5;28;43mlist\u001b[39;49m\u001b[43m(\u001b[49m\u001b[43mo\u001b[49m\u001b[43m)\u001b[49m)\n\u001b[1;32m     25\u001b[0m \u001b[38;5;66;03m# B Sort a list of integers into positive and negative integers lists.\u001b[39;00m\n\u001b[1;32m     26\u001b[0m \u001b[38;5;66;03m# [1,2,3,4,5,6,-1,-2,-3,-4,-5,0]\u001b[39;00m\n",
      "\u001b[0;31mTypeError\u001b[0m: 'list' object is not callable"
     ]
    }
   ],
   "source": [
    "# Q2. Solve the below-given questions using at least one of the following:\n",
    "# 1. Lambda function\n",
    "# 2. Filter function\n",
    "# 3. Map function\n",
    "# 4. List Comprehension\n",
    "\n",
    "# B Check if the string starts with a particular letter.\n",
    "# B Check if the string is numeric.\n",
    "# B Sort a list of tuples having fruit names and their quantity. [(\"mango\",99),(\"orange\",80), (\"grapes\", 1000)-\n",
    "# B Find the squares of numbers from 1 to 10.\n",
    "j = [int(x**2) for x in range(1, 11)]\n",
    "print(*j)\n",
    "\n",
    "# B Find the cube root of numbers from 1 to 10.\n",
    "j = [int(x**3) for x in range(1, 11)]\n",
    "print(*j)\n",
    "# B Check if a given number is even.\n",
    "e = lambda x: \"it is even\" if x%2 == 0 else \"It is not an even\"\n",
    "print(e(float(input())))\n",
    "# B Filter odd numbers from the given list.\n",
    "# [1,2,3,4,5,6,7,8,9,10]\n",
    "l =  [1,2,3,4,5,6,7,8,9,10]\n",
    "o = lambda x: x%2 != 0\n",
    "print(list(o))\n",
    "# B Sort a list of integers into positive and negative integers lists.\n",
    "# [1,2,3,4,5,6,-1,-2,-3,-4,-5,0]\n",
    "\n"
   ]
  },
  {
   "cell_type": "code",
   "execution_count": null,
   "id": "e0b6b9b8-8877-4eea-894d-f5e3e5b7b3c5",
   "metadata": {},
   "outputs": [],
   "source": []
  },
  {
   "cell_type": "code",
   "execution_count": null,
   "id": "61a3ca8c-165e-4142-99e7-3ba483d1d50d",
   "metadata": {},
   "outputs": [],
   "source": []
  },
  {
   "cell_type": "code",
   "execution_count": null,
   "id": "75b4412d-5517-4c9e-a86c-d3afbe3066b5",
   "metadata": {},
   "outputs": [],
   "source": []
  }
 ],
 "metadata": {
  "kernelspec": {
   "display_name": "Python 3 (ipykernel)",
   "language": "python",
   "name": "python3"
  },
  "language_info": {
   "codemirror_mode": {
    "name": "ipython",
    "version": 3
   },
   "file_extension": ".py",
   "mimetype": "text/x-python",
   "name": "python",
   "nbconvert_exporter": "python",
   "pygments_lexer": "ipython3",
   "version": "3.10.8"
  }
 },
 "nbformat": 4,
 "nbformat_minor": 5
}
